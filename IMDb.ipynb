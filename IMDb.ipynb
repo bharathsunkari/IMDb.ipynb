{
  "nbformat": 4,
  "nbformat_minor": 0,
  "metadata": {
    "colab": {
      "provenance": [],
      "include_colab_link": true
    },
    "kernelspec": {
      "name": "python3",
      "display_name": "Python 3"
    },
    "language_info": {
      "name": "python"
    }
  },
  "cells": [
    {
      "cell_type": "markdown",
      "metadata": {
        "id": "view-in-github",
        "colab_type": "text"
      },
      "source": [
        "<a href=\"https://colab.research.google.com/github/bharathsunkari/IMDb.ipynb/blob/main/IMDb.ipynb\" target=\"_parent\"><img src=\"https://colab.research.google.com/assets/colab-badge.svg\" alt=\"Open In Colab\"/></a>"
      ]
    },
    {
      "cell_type": "code",
      "execution_count": null,
      "metadata": {
        "id": "ZkYrB4SGCedi"
      },
      "outputs": [],
      "source": [
        "# Import libraries\n",
        "import numpy as np\n",
        "import tensorflow as tf\n",
        "from tensorflow.keras.datasets import imdb\n",
        "from tensorflow.keras.preprocessing.sequence import pad_sequences\n",
        "from tensorflow.keras.models import Sequential\n",
        "from tensorflow.keras.layers import Embedding, LSTM, Dense, Dropout\n",
        "from tensorflow.keras.callbacks import EarlyStopping\n"
      ]
    },
    {
      "cell_type": "code",
      "source": [
        "# Set random seed for reproducibility\n",
        "np.random.seed(42)\n",
        "tf.random.set_seed(42)"
      ],
      "metadata": {
        "id": "7OpZ3gh9Cz8o"
      },
      "execution_count": null,
      "outputs": []
    },
    {
      "cell_type": "code",
      "source": [
        "# Load IMDB dataset\n",
        "num_words = 10000\n",
        "maxlen = 200\n",
        "(x_train, y_train), (x_test, y_test) = imdb.load_data(num_words=num_words)"
      ],
      "metadata": {
        "colab": {
          "base_uri": "https://localhost:8080/"
        },
        "id": "ljHDTQcCC55W",
        "outputId": "6dfcbf9f-ba4e-4f0b-f7fc-e5ff76f28515"
      },
      "execution_count": null,
      "outputs": [
        {
          "output_type": "stream",
          "name": "stdout",
          "text": [
            "Downloading data from https://storage.googleapis.com/tensorflow/tf-keras-datasets/imdb.npz\n",
            "17464789/17464789 [==============================] - 0s 0us/step\n"
          ]
        }
      ]
    },
    {
      "cell_type": "code",
      "source": [
        "# Pad sequences to ensure uniform length\n",
        "x_train = pad_sequences(x_train, maxlen=maxlen)\n",
        "x_test = pad_sequences(x_test, maxlen=maxlen)\n"
      ],
      "metadata": {
        "id": "4pxldpU2DDXn"
      },
      "execution_count": null,
      "outputs": []
    },
    {
      "cell_type": "code",
      "source": [
        "# Build RNN model\n",
        "model = Sequential()\n",
        "model.add(Embedding(input_dim=num_words, output_dim=128, input_length=maxlen))\n",
        "model.add(LSTM(units=128, dropout=0.2, recurrent_dropout=0.2))\n",
        "model.add(Dense(units=1, activation='sigmoid'))\n"
      ],
      "metadata": {
        "id": "x3mUOJBEDKAG"
      },
      "execution_count": null,
      "outputs": []
    },
    {
      "cell_type": "code",
      "source": [
        "# Compile the model\n",
        "model.compile(optimizer='adam', loss='binary_crossentropy', metrics=['accuracy'])\n"
      ],
      "metadata": {
        "id": "sLPAAmSODO4G"
      },
      "execution_count": null,
      "outputs": []
    },
    {
      "cell_type": "code",
      "source": [
        "# Print model summary\n",
        "model.summary()\n"
      ],
      "metadata": {
        "colab": {
          "base_uri": "https://localhost:8080/"
        },
        "id": "kysrbcsMDTTT",
        "outputId": "59dd2129-7267-45ff-d191-6f874400cc56"
      },
      "execution_count": null,
      "outputs": [
        {
          "output_type": "stream",
          "name": "stdout",
          "text": [
            "Model: \"sequential\"\n",
            "_________________________________________________________________\n",
            " Layer (type)                Output Shape              Param #   \n",
            "=================================================================\n",
            " embedding (Embedding)       (None, 200, 128)          1280000   \n",
            "                                                                 \n",
            " lstm (LSTM)                 (None, 128)               131584    \n",
            "                                                                 \n",
            " dense (Dense)               (None, 1)                 129       \n",
            "                                                                 \n",
            "=================================================================\n",
            "Total params: 1411713 (5.39 MB)\n",
            "Trainable params: 1411713 (5.39 MB)\n",
            "Non-trainable params: 0 (0.00 Byte)\n",
            "_________________________________________________________________\n"
          ]
        }
      ]
    },
    {
      "cell_type": "code",
      "source": [
        "# Define early stopping callback\n",
        "early_stopping = EarlyStopping(monitor='val_loss', patience=3)\n"
      ],
      "metadata": {
        "id": "v84eoV7WDXMv"
      },
      "execution_count": null,
      "outputs": []
    },
    {
      "cell_type": "code",
      "source": [
        "\n",
        "# Train the model\n",
        "batch_size = 32\n",
        "epochs = 10\n",
        "history = model.fit(x_train, y_train, batch_size=batch_size, epochs=epochs, validation_split=0.2, callbacks=[early_stopping])\n"
      ],
      "metadata": {
        "colab": {
          "base_uri": "https://localhost:8080/"
        },
        "id": "oPhXaySBDbUl",
        "outputId": "b455673f-cd5b-49a8-8dd4-75f553b02023"
      },
      "execution_count": null,
      "outputs": [
        {
          "output_type": "stream",
          "name": "stdout",
          "text": [
            "Epoch 1/10\n",
            "625/625 [==============================] - 295s 472ms/step - loss: 0.1011 - accuracy: 0.9646 - val_loss: 0.4557 - val_accuracy: 0.8502\n",
            "Epoch 2/10\n",
            "625/625 [==============================] - 294s 471ms/step - loss: 0.0925 - accuracy: 0.9672 - val_loss: 0.4502 - val_accuracy: 0.8586\n",
            "Epoch 3/10\n",
            "625/625 [==============================] - 295s 472ms/step - loss: 0.0610 - accuracy: 0.9799 - val_loss: 0.6083 - val_accuracy: 0.8308\n",
            "Epoch 4/10\n",
            "625/625 [==============================] - 297s 475ms/step - loss: 0.0533 - accuracy: 0.9821 - val_loss: 0.6008 - val_accuracy: 0.8514\n",
            "Epoch 5/10\n",
            "625/625 [==============================] - 311s 497ms/step - loss: 0.0572 - accuracy: 0.9810 - val_loss: 0.6582 - val_accuracy: 0.8464\n"
          ]
        }
      ]
    },
    {
      "cell_type": "code",
      "source": [
        "# Evaluate the model\n",
        "loss, accuracy = model.evaluate(x_test, y_test)\n",
        "print(f'Test Loss: {loss}, Test Accuracy: {accuracy}')\n"
      ],
      "metadata": {
        "colab": {
          "base_uri": "https://localhost:8080/"
        },
        "id": "BFJz_NQAQ6lx",
        "outputId": "34d9c2fc-ca6d-41b5-f5ca-6bd96113ab9e"
      },
      "execution_count": null,
      "outputs": [
        {
          "output_type": "stream",
          "name": "stdout",
          "text": [
            "782/782 [==============================] - 59s 76ms/step - loss: 0.7135 - accuracy: 0.8327\n",
            "Test Loss: 0.713523268699646, Test Accuracy: 0.8326799869537354\n"
          ]
        }
      ]
    },
    {
      "cell_type": "code",
      "source": [
        "\n",
        "# Predict sentiment for a sample review\n",
        "sample_review = \"The movie was fantastic. I loved every moment of it!\"\n",
        "sample_review_seq = imdb.get_word_index()\n",
        "sample_review_seq = [sample_review_seq[word] if word in sample_review_seq and sample_review_seq[word] < num_words else 0 for word in sample_review.split()]\n",
        "sample_review_seq = pad_sequences([sample_review_seq], maxlen=maxlen)\n",
        "prediction = model.predict(sample_review_seq)\n",
        "print(f'Sentiment Prediction for Sample Review: {prediction[0][0]}')"
      ],
      "metadata": {
        "colab": {
          "base_uri": "https://localhost:8080/"
        },
        "id": "xdCwlFP6RVgN",
        "outputId": "2188c894-bf29-461a-c7ce-d554f03077b8"
      },
      "execution_count": null,
      "outputs": [
        {
          "output_type": "stream",
          "name": "stdout",
          "text": [
            "1/1 [==============================] - 0s 49ms/step\n",
            "Sentiment Prediction for Sample Review: 0.053687915205955505\n"
          ]
        }
      ]
    }
  ]
}